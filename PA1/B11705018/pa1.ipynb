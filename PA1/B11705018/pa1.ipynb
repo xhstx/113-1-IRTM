{
 "cells": [
  {
   "cell_type": "code",
   "execution_count": 5,
   "metadata": {},
   "outputs": [],
   "source": [
    "import re\n",
    "import nltk"
   ]
  },
  {
   "cell_type": "code",
   "execution_count": 7,
   "metadata": {},
   "outputs": [],
   "source": [
    "# Read Document and Preprocessing\n",
    "with open(\"1.txt\", \"r\") as r:\n",
    "    f = r.read()\n",
    "doc = f.replace(\"\\n\", \"\")\n",
    "doc = re.sub(r\"[^\\w\\s]\", \"\", doc)\n",
    "\n",
    "# Tokenization and Lowercasing\n",
    "tokenization = [word.lower() for word in doc.split(\" \")]\n",
    "\n",
    "# Stemming using Porter's Algorithm\n",
    "from nltk.stem import PorterStemmer\n",
    "ps = PorterStemmer()\n",
    "stemming = [ps.stem(word) for word in tokenization]\n",
    "\n",
    "# Stopword Removal\n",
    "r = open(\"stopwords.txt\")\n",
    "stopwords = r.read()\n",
    "result = [word for word in stemming if word not in stopwords]\n",
    "\n",
    "# Save the result as a txt file\n",
    "with open(\"result.txt\", \"w\") as f:\n",
    "    for word in result:\n",
    "        f.write(word + \"\\n\")"
   ]
  }
 ],
 "metadata": {
  "kernelspec": {
   "display_name": "base",
   "language": "python",
   "name": "python3"
  },
  "language_info": {
   "codemirror_mode": {
    "name": "ipython",
    "version": 3
   },
   "file_extension": ".py",
   "mimetype": "text/x-python",
   "name": "python",
   "nbconvert_exporter": "python",
   "pygments_lexer": "ipython3",
   "version": "3.10.9"
  }
 },
 "nbformat": 4,
 "nbformat_minor": 2
}
