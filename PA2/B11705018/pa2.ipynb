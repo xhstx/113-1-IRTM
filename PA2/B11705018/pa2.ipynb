{
 "cells": [
  {
   "cell_type": "code",
   "execution_count": 10,
   "metadata": {},
   "outputs": [],
   "source": [
    "import re\n",
    "import math\n",
    "import numpy as np\n",
    "import nltk\n",
    "from string import digits\n",
    "from nltk.stem import PorterStemmer\n",
    "from os import listdir"
   ]
  },
  {
   "cell_type": "code",
   "execution_count": 11,
   "metadata": {},
   "outputs": [],
   "source": [
    "FILE_PATH = \"./data/\"\n",
    "\n",
    "ps = PorterStemmer()\n",
    "\n",
    "r = open(\"stopwords.txt\")\n",
    "stopwords = r.read()"
   ]
  },
  {
   "cell_type": "code",
   "execution_count": 12,
   "metadata": {},
   "outputs": [],
   "source": [
    "def preprocessing(file):\n",
    "    # Preprocessing\n",
    "    doc = file.replace(\"\\s+\",\" \").replace(\"\\n\", \"\").replace(\"\\r\\n\", \"\")\n",
    "    doc = re.sub(r\"[^\\w\\s]\", \"\", doc)\n",
    "    doc = re.sub(r\"[0-9]\", \"\", doc)\n",
    "    doc = doc.replace(\"_\", \"\")\n",
    "\n",
    "    # Tokenization and Lowercasing\n",
    "    tokenization = [word.lower() for word in doc.split(\" \")]\n",
    "\n",
    "    # Stemming using Porter's Algorithm\n",
    "    stemming = [ps.stem(word) for word in tokenization]\n",
    "\n",
    "    # Stopword Removal\n",
    "    result = [word for word in stemming if word not in stopwords]\n",
    "\n",
    "    return result"
   ]
  },
  {
   "cell_type": "code",
   "execution_count": 13,
   "metadata": {},
   "outputs": [],
   "source": [
    "def count_tf_df(doc_set):\n",
    "    tf_all = list()\n",
    "    df_all = dict()\n",
    "\n",
    "    for document in doc_set:\n",
    "        doc_id, doc = document\n",
    "\n",
    "        token_list = preprocessing(doc)\n",
    "        \n",
    "        tf = dict()\n",
    "        for term in token_list:\n",
    "            if term in tf:\n",
    "                tf[term] += 1\n",
    "            else:\n",
    "                tf[term] = 1\n",
    "        tf_all.append([doc_id, tf])\n",
    "\n",
    "        for term in tf:\n",
    "            if term in df_all:\n",
    "                df_all[term] += 1\n",
    "            else:\n",
    "                df_all[term] = 1\n",
    "\n",
    "    df_all = dict(sorted(df_all.items(), key=lambda x: x[0]))\n",
    "\n",
    "    term_index = dict()\n",
    "    index = 0\n",
    "    for term in df_all:\n",
    "        term_index[term] = index\n",
    "        index += 1\n",
    "\n",
    "    return tf_all, df_all, term_index    "
   ]
  },
  {
   "cell_type": "code",
   "execution_count": 14,
   "metadata": {},
   "outputs": [],
   "source": [
    "def tf_vec(tf_list, t_index):\n",
    "    tf_vector = list()\n",
    "\n",
    "    for pair in tf_list:\n",
    "        doc_id, tf = pair\n",
    "        vec = np.array([0] * len(t_index), dtype=float)\n",
    "        \n",
    "        for word in tf:\n",
    "            vec[t_index[word]] = tf[word]\n",
    "        \n",
    "        tf_vector.append([doc_id, vec])\n",
    "        \n",
    "    return tf_vector"
   ]
  },
  {
   "cell_type": "code",
   "execution_count": 15,
   "metadata": {},
   "outputs": [],
   "source": [
    "def tf_idf_vec(tf_vector, df_list, t_index):\n",
    "    \n",
    "    idf_vector = np.array([0] * len(t_index), dtype=float)\n",
    "\n",
    "    N = len(tf_vector)\n",
    "   \n",
    "    for word, df in df_list.items():\n",
    "        idf = math.log(N / df, 10)\n",
    "        idf_vector[t_index[word]] = idf\n",
    "\n",
    "    tf_idf_vectors = list()\n",
    "    for vec in tf_vector:\n",
    "        index = vec[0]\n",
    "        tf_idf = vec[1] * idf_vector\n",
    "        tf_idf_unit = tf_idf / np.linalg.norm(tf_idf)\n",
    "        tf_idf_vectors.append([index, tf_idf_unit])\n",
    "        \n",
    "    return tf_idf_vectors\n"
   ]
  },
  {
   "cell_type": "code",
   "execution_count": 16,
   "metadata": {},
   "outputs": [],
   "source": [
    "def get_vector(doc_id, t_index):\n",
    "    vector = np.array([0] * len(t_index), dtype=float)\n",
    "    with open(f\"./output/{doc_id}.txt\") as f:\n",
    "        row = 0\n",
    "        for line in f:\n",
    "            if row > 1:\n",
    "                index, tf_idf = [x.strip() for x in re.split(r'\\t+', line)]\n",
    "                vector[int(index)] = tf_idf\n",
    "            row += 1\n",
    "    return vector\n",
    "\n",
    "def cosine(doc_x, doc_y):\n",
    "    vector_x = get_vector(doc_x, t_index)\n",
    "    vector_y = get_vector(doc_y, t_index)\n",
    "    cosine_sim = float(np.dot(vector_x, vector_y))\n",
    "    return cosine_sim"
   ]
  },
  {
   "cell_type": "code",
   "execution_count": 17,
   "metadata": {},
   "outputs": [],
   "source": [
    "files = listdir(FILE_PATH)\n",
    "files.sort(key=lambda x: int(x[:-4]))\n",
    "doc_set = list()\n",
    "\n",
    "for file in files:\n",
    "    with open(FILE_PATH + file, \"r\") as f:\n",
    "        document_id = str(file)[:-4]\n",
    "        document = f.read()\n",
    "        doc_set.append([document_id, document])\n",
    "\n",
    "tf_list, df_list, t_index = count_tf_df(doc_set)\n",
    "\n",
    "with open(\"dictionary.txt\", \"w\") as f:\n",
    "    f.write(\"t_index\\tterm\\tdf\\n\")\n",
    "    for term in df_list:\n",
    "        index = t_index[term]\n",
    "        key = term\n",
    "        df = df_list[term]\n",
    "        f.write(f\"{index}\\t{key}\\t{df}\\n\")\n",
    "\n",
    "tf_vector = tf_vec(tf_list, t_index)\n",
    "tf_idf_vector = tf_idf_vec(tf_vector, df_list, t_index)\n",
    "\n",
    "for vector in tf_idf_vector:\n",
    "    doc_id, vec_list = vector\n",
    "    terms_num = np.count_nonzero(vec_list)\n",
    "    with open(f\"./output/{doc_id}.txt\", \"w\") as f:\n",
    "        f.write(f\"{terms_num}\\n\")\n",
    "        f.write(\"t_index\\ttf-idf\\n\")\n",
    "        for i in range(len(vec_list)):\n",
    "            if vec_list[i] != 0:\n",
    "                f.write(f\"{i}\\t{vec_list[i]}\\n\")"
   ]
  },
  {
   "cell_type": "code",
   "execution_count": 18,
   "metadata": {},
   "outputs": [
    {
     "name": "stdout",
     "output_type": "stream",
     "text": [
      "cosine similarity of doc 1 and doc 2 is  0.19986585359571019\n"
     ]
    }
   ],
   "source": [
    "print(\"cosine similarity of doc 1 and doc 2 is\", cosine(\"1\", \"2\"))"
   ]
  }
 ],
 "metadata": {
  "kernelspec": {
   "display_name": "base",
   "language": "python",
   "name": "python3"
  },
  "language_info": {
   "codemirror_mode": {
    "name": "ipython",
    "version": 3
   },
   "file_extension": ".py",
   "mimetype": "text/x-python",
   "name": "python",
   "nbconvert_exporter": "python",
   "pygments_lexer": "ipython3",
   "version": "3.10.9"
  }
 },
 "nbformat": 4,
 "nbformat_minor": 2
}
